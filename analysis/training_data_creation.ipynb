{
 "cells": [
  {
   "cell_type": "code",
   "execution_count": 1,
   "metadata": {},
   "outputs": [],
   "source": [
    "import numpy as np\n",
    "import pandas as pd"
   ]
  },
  {
   "cell_type": "code",
   "execution_count": 2,
   "metadata": {},
   "outputs": [],
   "source": [
    "# # processing match events from prior submission for testing\n",
    "# cols = ['Time', 'Instrument', 'Operation', 'OrderId', 'Side', 'Volume', 'Price', 'Lifespan']\n",
    "# for name in ['match48_events', 'match152_events']:\n",
    "#     df = pd.read_csv(f'../{name}.csv')\n",
    "\n",
    "#     mask = df.Competitor.notna()\n",
    "#     df = df.loc[mask, :].copy()\n",
    "#     #df['Instrument'] = df.Instrument.apply(lambda x: int(x) if pd.notna(x) else np.nan)\n",
    "#     df['Volume'] = df.Volume.apply(lambda x: float(x) if pd.notna(x) else np.nan)\n",
    "#     break\n",
    "#     #df[cols].to_csv(f'../data/{name}.csv', index=False)\n",
    "#     #df = None"
   ]
  },
  {
   "cell_type": "code",
   "execution_count": 3,
   "metadata": {},
   "outputs": [],
   "source": [
    "# merging all market data sequentially\n",
    "l = []\n",
    "offset = 900\n",
    "\n",
    "for i in range(1, 5):\n",
    "    df = pd.read_csv(f'../data/market_data{i}.csv')\n",
    "    if i > 1:\n",
    "        df['Time'] = df.Time + offset*(i-1)\n",
    "    l.append(df)\n",
    "    df = None\n",
    "\n",
    "pd.concat(l, axis=0).to_csv('../data/market_data_merged.csv', index=False)\n",
    "l = None"
   ]
  },
  {
   "cell_type": "code",
   "execution_count": 4,
   "metadata": {},
   "outputs": [],
   "source": [
    "# merging all market data by same timestamp\n",
    "l = []\n",
    "\n",
    "for i in range(1, 5):\n",
    "    df = pd.read_csv(f'../data/market_data{i}.csv')\n",
    "\n",
    "    l.append(df)\n",
    "    df = None\n",
    "\n",
    "pd.concat(l, axis=0).sort_values('Time', ascending=True).to_csv('../data/market_data_intersected.csv', index=False)\n",
    "l = None"
   ]
  }
 ],
 "metadata": {
  "kernelspec": {
   "display_name": "myenv",
   "language": "python",
   "name": "python3"
  },
  "language_info": {
   "codemirror_mode": {
    "name": "ipython",
    "version": 3
   },
   "file_extension": ".py",
   "mimetype": "text/x-python",
   "name": "python",
   "nbconvert_exporter": "python",
   "pygments_lexer": "ipython3",
   "version": "3.8.16"
  },
  "orig_nbformat": 4
 },
 "nbformat": 4,
 "nbformat_minor": 2
}
