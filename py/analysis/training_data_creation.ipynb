{
 "cells": [
  {
   "cell_type": "code",
   "execution_count": 37,
   "metadata": {},
   "outputs": [],
   "source": [
    "import numpy as np\n",
    "import random\n",
    "import pandas as pd\n",
    "from sklearn.preprocessing import MinMaxScaler"
   ]
  },
  {
   "cell_type": "code",
   "execution_count": 13,
   "metadata": {},
   "outputs": [],
   "source": [
    "# merging all market data sequentially\n",
    "l = []\n",
    "offset = 900\n",
    "\n",
    "for i in range(1, 5):\n",
    "    df = pd.read_csv(f'../data/market_data{i}.csv')\n",
    "    if i > 1:\n",
    "        df['Time'] = df.Time + offset*(i-1)\n",
    "    l.append(df)\n",
    "    df = None\n",
    "\n",
    "pd.concat(l, axis=0).to_csv('../data/market_data_merged.csv', index=False)\n",
    "l = None"
   ]
  },
  {
   "cell_type": "code",
   "execution_count": 29,
   "metadata": {},
   "outputs": [],
   "source": [
    "# merging all market data by same timestamp\n",
    "l = []\n",
    "\n",
    "for i in range(1, 5):\n",
    "    df = pd.read_csv(f'../data/market_data{i}.csv')\n",
    "\n",
    "    l.append(df)\n",
    "    df = None\n",
    "\n",
    "pd.concat(l, axis=0).sort_values('Time', ascending=True).to_csv('../data/market_data_intersected.csv', index=False)\n",
    "l = None"
   ]
  },
  {
   "cell_type": "code",
   "execution_count": 38,
   "metadata": {},
   "outputs": [],
   "source": [
    "df = pd.read_csv('../data/market_data_merged.csv')"
   ]
  },
  {
   "cell_type": "code",
   "execution_count": 39,
   "metadata": {},
   "outputs": [],
   "source": [
    "orders = df.OrderId.unique().tolist()\n",
    "sample_orders = random.sample(orders, k=30000)"
   ]
  },
  {
   "cell_type": "code",
   "execution_count": 40,
   "metadata": {},
   "outputs": [],
   "source": [
    "df = df[df.OrderId.isin(sample_orders)].copy()"
   ]
  },
  {
   "cell_type": "code",
   "execution_count": 42,
   "metadata": {},
   "outputs": [
    {
     "data": {
      "text/plain": [
       "True"
      ]
     },
     "execution_count": 42,
     "metadata": {},
     "output_type": "execute_result"
    }
   ],
   "source": [
    "df.Time.is_monotonic_increasing"
   ]
  },
  {
   "cell_type": "code",
   "execution_count": 43,
   "metadata": {},
   "outputs": [],
   "source": [
    "scaler = MinMaxScaler(feature_range=(0, 15*60))\n",
    "df['Time'] = scaler.fit_transform(df.Time.values.reshape(-1, 1)).flatten()"
   ]
  },
  {
   "cell_type": "code",
   "execution_count": 45,
   "metadata": {},
   "outputs": [],
   "source": [
    "df.to_csv('../data/market_training.csv', index=False)"
   ]
  }
 ],
 "metadata": {
  "kernelspec": {
   "display_name": "myenv",
   "language": "python",
   "name": "python3"
  },
  "language_info": {
   "codemirror_mode": {
    "name": "ipython",
    "version": 3
   },
   "file_extension": ".py",
   "mimetype": "text/x-python",
   "name": "python",
   "nbconvert_exporter": "python",
   "pygments_lexer": "ipython3",
   "version": "3.8.16"
  },
  "orig_nbformat": 4
 },
 "nbformat": 4,
 "nbformat_minor": 2
}
