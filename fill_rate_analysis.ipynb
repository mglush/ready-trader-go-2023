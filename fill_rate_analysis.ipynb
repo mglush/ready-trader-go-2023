{
 "cells": [
  {
   "cell_type": "code",
   "execution_count": 9,
   "id": "0c0da30c",
   "metadata": {},
   "outputs": [],
   "source": [
    "import pandas as pd\n",
    "import matplotlib.pyplot as plt\n",
    "import numpy as np"
   ]
  },
  {
   "cell_type": "code",
   "execution_count": 16,
   "id": "5018cf53",
   "metadata": {},
   "outputs": [
    {
     "data": {
      "text/plain": [
       "[1.8687526212735939,\n",
       " 1.0059784406185464,\n",
       " 1.7380756535196924,\n",
       " 0.21667999337594082,\n",
       " -1.6243270008401909,\n",
       " -1.6445041083240286,\n",
       " -1.6798805285445937,\n",
       " -1.6908125744373554]"
      ]
     },
     "execution_count": 16,
     "metadata": {},
     "output_type": "execute_result"
    }
   ],
   "source": [
    "model_names = ['BaseModel1', 'Model2', 'Model3', 'Model4', 'TraderFour', 'TraderFive', 'TraderSix', 'TraderSeven']\n",
    "sharpe_ratios = list()\n",
    "\n",
    "match = pd.read_csv('./score_board.csv', sep=',')\n",
    "\n",
    "for model_name in model_names:\n",
    "    temp = list(match[match['Team'] == model_name]['ProfitOrLoss'])\n",
    "    sharpe_ratios.append(np.mean(temp) / np.std(temp))\n",
    "    \n",
    "sharpe_ratios"
   ]
  },
  {
   "cell_type": "code",
   "execution_count": null,
   "id": "b558abdb",
   "metadata": {},
   "outputs": [],
   "source": []
  }
 ],
 "metadata": {
  "kernelspec": {
   "display_name": "Python 3 (ipykernel)",
   "language": "python",
   "name": "python3"
  },
  "language_info": {
   "codemirror_mode": {
    "name": "ipython",
    "version": 3
   },
   "file_extension": ".py",
   "mimetype": "text/x-python",
   "name": "python",
   "nbconvert_exporter": "python",
   "pygments_lexer": "ipython3",
   "version": "3.9.6"
  }
 },
 "nbformat": 4,
 "nbformat_minor": 5
}
